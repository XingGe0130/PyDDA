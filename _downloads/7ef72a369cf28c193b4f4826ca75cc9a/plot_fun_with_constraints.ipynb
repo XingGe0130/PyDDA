{
  "nbformat": 4,
  "nbformat_minor": 0,
  "cells": [
    {
      "source": [
        "%matplotlib inline"
      ],
      "metadata": {
        "collapsed": false
      },
      "outputs": [],
      "cell_type": "code",
      "execution_count": null
    },
    {
      "metadata": {},
      "source": [
        "\nExample on geographic plotting and constraint variation\n-------------------------------------------------------\n\nIn this example we show how to plot wind fields on a map and change\nthe default constraint coefficients using PyDDA.\n\nThis shows how important it is to have the proper intitial state and\nconstraints when you derive your wind fields. In the first figure,\nthe sounding was used as the initial state, but for the latter\ntwo examples we use a zero initial state which provides for more \nquestionable winds at the edges of the Dual Doppler Lobes.\n\n\n"
      ],
      "cell_type": "markdown"
    },
    {
      "source": [
        "import pydda\nimport pyart\nimport cartopy.crs as ccrs\nimport matplotlib.pyplot as plt\n\n\nberr_grid = pyart.io.read_grid(pydda.tests.EXAMPLE_RADAR0)\ncpol_grid = pyart.io.read_grid(pydda.tests.EXAMPLE_RADAR1)\n\n# Load our radar data\nsounding = pyart.io.read_arm_sonde(\n    pydda.tests.SOUNDING_PATH)\nu_init, v_init, w_init = pydda.initialization.make_constant_wind_field(\n    berr_grid, (0.0, 0.0, 0.0))\n\n# Let's make a plot on a map\nfig = plt.figure(figsize=(7, 7))\nax = plt.axes(projection=ccrs.PlateCarree())\n\npydda.vis.plot_horiz_xsection_streamlines_map(\n    [cpol_grid, berr_grid], ax=ax, bg_grid_no=-1, level=7, w_vel_contours=[3, 5, 8])\nplt.show()\n\n# Let's see what happens when we use a zero initialization\nnew_grids = pydda.retrieval.get_dd_wind_field([cpol_grid, berr_grid],\n                                    u_init, v_init, w_init,\n                                    Co=1.0, Cm=1500.0, frz=5000.0,\n                                    mask_outside_opt=True)\n\nfig = plt.figure(figsize=(7, 7))\nax = plt.axes(projection=ccrs.PlateCarree())\n\npydda.vis.plot_horiz_xsection_streamlines_map(\n    new_grids, ax=ax, bg_grid_no=-1, level=7, w_vel_contours=[3, 5, 8])\nplt.show()\n\n# Or, let's make the radar data more important!\nnew_grids = pydda.retrieval.get_dd_wind_field([cpol_grid, berr_grid],\n                                    u_init, v_init, w_init,\n                                    Co=10.0, Cm=1500.0, frz=5000.0,\n                                    mask_outside_opt=True)\nfig = plt.figure(figsize=(7, 7))\nax = plt.axes(projection=ccrs.PlateCarree())\n\npydda.vis.plot_horiz_xsection_streamlines_map(\n    new_grids, ax=ax, bg_grid_no=-1, level=7, w_vel_contours=[3, 5, 8])\nplt.show()"
      ],
      "metadata": {
        "collapsed": false
      },
      "outputs": [],
      "cell_type": "code",
      "execution_count": null
    }
  ],
  "metadata": {
    "language_info": {
      "name": "python",
      "nbconvert_exporter": "python",
      "mimetype": "text/x-python",
      "codemirror_mode": {
        "version": 3,
        "name": "ipython"
      },
      "pygments_lexer": "ipython3",
      "version": "3.5.5",
      "file_extension": ".py"
    },
    "kernelspec": {
      "name": "python3",
      "display_name": "Python 3",
      "language": "python"
    }
  }
}