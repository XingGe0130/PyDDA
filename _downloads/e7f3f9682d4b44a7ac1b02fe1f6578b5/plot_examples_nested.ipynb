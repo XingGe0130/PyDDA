{
  "nbformat": 4,
  "cells": [
    {
      "source": [
        "%matplotlib inline"
      ],
      "cell_type": "code",
      "metadata": {
        "collapsed": false
      },
      "execution_count": null,
      "outputs": []
    },
    {
      "source": [
        "\nExample on retrieving and plotting winds on a distributed cluster\n-----------------------------------------------------------------\n\nThis is a simple example for how to retrieve winds using the\nnested grid features of PyDDA.\n\nAuthor: Robert C. Jackson\n\n\n"
      ],
      "cell_type": "markdown",
      "metadata": {}
    },
    {
      "source": [
        "import pyart\nimport pydda\nfrom matplotlib import pyplot as plt\nfrom distributed import LocalCluster, Client\n\n# Needed so that distributed doesn't run all of your code when the worker \n# starts!\nif __name__ == '__main__':\n\n    berr_grid = pyart.io.read_grid(pydda.tests.EXAMPLE_RADAR0)\n    cpol_grid = pyart.io.read_grid(pydda.tests.EXAMPLE_RADAR1)\n\n    sounding = pyart.io.read_arm_sonde(pydda.tests.SOUNDING_PATH)\n\n    # Load sounding data and insert as an intialization\n    u_init, v_init, w_init = pydda.initialization.make_wind_field_from_profile(\n        cpol_grid, sounding[1], vel_field='corrected_velocity')\n\n    # Start our dask distributed cluster. You can use any distributed cluster\n    # for this...a LocalCluster is used here for the sake of being able to run\n    # this example locally.\n    cluster = LocalCluster(n_workers=2)\n    print(cluster)\n    client = Client(cluster)\n    print(client)\n\n    # Start the wind retrieval. This example only uses the mass continuity\n    # and data weighting constraints.\n    Grids = pydda.retrieval.get_dd_wind_field_nested(\n        [berr_grid, cpol_grid], u_init,  v_init, w_init, client, Co=10.0,\n        Cm=1500.0, Cz=0, frz=5000.0,\n        filt_iterations=2, mask_outside_opt=True, upper_bc=1)\n\n    # Plot a horizontal cross section\n    plt.figure(figsize=(9, 9))\n    pydda.vis.plot_horiz_xsection_barbs(Grids, background_field='reflectivity', \n                                        level=6,\n                                        w_vel_contours=[3, 6, 9, 12, 15],\n                                        barb_spacing_x_km=5.0,\n                                        barb_spacing_y_km=15.0)\n    plt.show()\n\n    # Plot a vertical X-Z cross section\n    plt.figure(figsize=(9, 9))\n    pydda.vis.plot_xz_xsection_barbs(Grids, background_field='reflectivity', \n                                     level=40,\n                                     w_vel_contours=[3, 6, 9, 12, 15],\n                                     barb_spacing_x_km=10.0,\n                                     barb_spacing_z_km=2.0)\n    plt.show()\n\n    # Plot a vertical Y-Z cross section\n    plt.figure(figsize=(9, 9))\n    pydda.vis.plot_yz_xsection_barbs(Grids, background_field='reflectivity',\n                                     level=40,\n                                     w_vel_contours=[3, 6, 9, 12, 15],\n                                     barb_spacing_y_km=10.0,\n                                     barb_spacing_z_km=2.0)\n    plt.show()"
      ],
      "cell_type": "code",
      "metadata": {
        "collapsed": false
      },
      "execution_count": null,
      "outputs": []
    }
  ],
  "nbformat_minor": 0,
  "metadata": {
    "kernelspec": {
      "language": "python",
      "name": "python3",
      "display_name": "Python 3"
    },
    "language_info": {
      "version": "3.5.5",
      "codemirror_mode": {
        "version": 3,
        "name": "ipython"
      },
      "nbconvert_exporter": "python",
      "file_extension": ".py",
      "name": "python",
      "pygments_lexer": "ipython3",
      "mimetype": "text/x-python"
    }
  }
}