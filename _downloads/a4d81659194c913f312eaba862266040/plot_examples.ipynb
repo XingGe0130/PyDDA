{
  "nbformat_minor": 0,
  "nbformat": 4,
  "metadata": {
    "language_info": {
      "version": "3.5.5",
      "nbconvert_exporter": "python",
      "file_extension": ".py",
      "codemirror_mode": {
        "version": 3,
        "name": "ipython"
      },
      "name": "python",
      "pygments_lexer": "ipython3",
      "mimetype": "text/x-python"
    },
    "kernelspec": {
      "display_name": "Python 3",
      "language": "python",
      "name": "python3"
    }
  },
  "cells": [
    {
      "outputs": [],
      "execution_count": null,
      "source": [
        "%matplotlib inline"
      ],
      "metadata": {
        "collapsed": false
      },
      "cell_type": "code"
    },
    {
      "source": [
        "\nExample on retrieving and plotting winds\n----------------------------------------\n\nThis is a simple example for how to retrieve and plot winds from 2 radars\nusing PyDDA.\n\nAuthor: Robert C. Jackson\n\n\n"
      ],
      "metadata": {},
      "cell_type": "markdown"
    },
    {
      "outputs": [],
      "execution_count": null,
      "source": [
        "import pyart\nimport pydda\nfrom matplotlib import pyplot as plt\n\n\nberr_grid = pyart.io.read_grid(pydda.tests.EXAMPLE_RADAR0)\ncpol_grid = pyart.io.read_grid(pydda.tests.EXAMPLE_RADAR1)\n\nsounding = pyart.io.read_arm_sonde(\n    pydda.tests.SOUNDING_PATH)\n\n\n# Load sounding data and insert as an intialization\nu_init, v_init, w_init = pydda.initialization.make_wind_field_from_profile(\n        cpol_grid, sounding[1], vel_field='corrected_velocity')\n\n# Start the wind retrieval. This example only uses the mass continuity\n# and data weighting constraints.\nGrids = pydda.retrieval.get_dd_wind_field([berr_grid, cpol_grid], u_init,\n                                          v_init, w_init, Co=10.0, Cm=1500.0,\n                                          Cz=0, \n                                          frz=5000.0, filt_iterations=2,\n                                          mask_outside_opt=True, upper_bc=1)\n# Plot a horizontal cross section\nplt.figure(figsize=(9, 9))\npydda.vis.plot_horiz_xsection_barbs(Grids, background_field='reflectivity',\n                                    level=6,\n                                    w_vel_contours=[3, 6, 9, 12, 15],\n                                    barb_spacing_x_km=5.0,\n                                    barb_spacing_y_km=15.0)\nplt.show()\n\n# Plot a vertical X-Z cross section\nplt.figure(figsize=(9, 9))\npydda.vis.plot_xz_xsection_barbs(Grids, background_field='reflectivity',\n                                 level=40,\n                                 w_vel_contours=[3, 6, 9, 12, 15],\n                                 barb_spacing_x_km=10.0,\n                                 barb_spacing_z_km=2.0)\nplt.show()\n\n# Plot a vertical Y-Z cross section\nplt.figure(figsize=(9, 9))\npydda.vis.plot_yz_xsection_barbs(Grids, background_field='reflectivity', \n                                 level=40,\n                                 w_vel_contours=[3, 6, 9, 12, 15],\n                                 barb_spacing_y_km=10.0,\n                                 barb_spacing_z_km=2.0)\nplt.show()"
      ],
      "metadata": {
        "collapsed": false
      },
      "cell_type": "code"
    }
  ]
}