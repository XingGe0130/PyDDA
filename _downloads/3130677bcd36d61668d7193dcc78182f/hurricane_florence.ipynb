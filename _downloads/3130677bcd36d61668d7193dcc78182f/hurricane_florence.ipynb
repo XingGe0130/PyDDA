{
  "cells": [
    {
      "source": [
        "%matplotlib inline"
      ],
      "execution_count": null,
      "metadata": {
        "collapsed": false
      },
      "outputs": [],
      "cell_type": "code"
    },
    {
      "source": [
        "\nSyntaxError\n===========\n\nExample script with invalid Python syntax\n\n"
      ],
      "metadata": {},
      "cell_type": "markdown"
    },
    {
      "source": [
        "\"\"\"\nExample on integrating radar and HRRR data\n------------------------------------------\n\nThis is an example of how to retrieve winds in Hurricane Florence.\nIn this example, we use data from 2 NEXRAD radars as well as from\nthe HRRR to retrieve the winds.\n\nAuthor: Robert C. Jackson\n\"\"\"\n\nimport urllib\nimport pyart\nimport pydda\nimport matplotlib.pyplot as plt\nimport cartopy.crs as ccrs\n\nhrrr_url = ('https://pando-rgw01.chpc.utah.edu/hrrr/prs/20180914/' +\n            'hrrr.t06z.wrfprsf00.grib2')\nurllib.request.urlretrieve(hrrr_url, 'test.grib2')\n\ngrid_mhx = pyart.io.read_grid('mhx_grid.nc')\ngrid_ltx = pyart.io.read_grid('ltx_grid.nc)\n\ngrid_mhx = pydda.constraints.add_hrrr_constraint_to_grid(grid_mhx,\n                                                         'test.grib2')\nu_init, v_init, w_init = pydda.initialization.make_constant_wind_field(\n    grid_mhx, (0.0, 0.0, 0.0))\nout_grids = pydda.retrieval.get_dd_wind_field(\n    [grid_mhx, grid_ltx], u_init, v_init, w_init, Co=0.0, Cm=0.0, Cmod=1e-3,\n    mask_outside_opt=True, vel_name='corrected_velocity',\n    model_fields=[\"hrrr\"])\n\nfig = plt.figure(figsize=(15, 10))\nax = plt.axes(projection=ccrs.PlateCarree())\nax = pydda.vis.plot_horiz_xsection_barbs_map(\n    out_grids, ax=ax, bg_grid_no=-1, level=1, barb_spacing_x_km=20.0,\n    barb_spacing_y_km=20.0)\n\nplt.title(out_grids[0].time['units'][13:] + ' winds at 0.5 km')"
      ],
      "execution_count": null,
      "metadata": {
        "collapsed": false
      },
      "outputs": [],
      "cell_type": "code"
    }
  ],
  "nbformat_minor": 0,
  "metadata": {
    "language_info": {
      "codemirror_mode": {
        "name": "ipython",
        "version": 3
      },
      "pygments_lexer": "ipython3",
      "file_extension": ".py",
      "mimetype": "text/x-python",
      "name": "python",
      "version": "3.5.5",
      "nbconvert_exporter": "python"
    },
    "kernelspec": {
      "display_name": "Python 3",
      "language": "python",
      "name": "python3"
    }
  },
  "nbformat": 4
}